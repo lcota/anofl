{
 "cells": [
  {
   "cell_type": "code",
   "execution_count": 9,
   "metadata": {},
   "outputs": [],
   "source": [
    "import requests\n",
    "import nltk\n",
    "import plotly"
   ]
  },
  {
   "cell_type": "code",
   "execution_count": 17,
   "metadata": {},
   "outputs": [
    {
     "name": "stdout",
     "output_type": "stream",
     "text": [
      "showing info https://raw.githubusercontent.com/nltk/nltk_data/gh-pages/index.xml\n"
     ]
    },
    {
     "data": {
      "text/plain": [
       "True"
      ]
     },
     "execution_count": 17,
     "metadata": {},
     "output_type": "execute_result"
    }
   ],
   "source": [
    "nltk.download()"
   ]
  },
  {
   "cell_type": "code",
   "execution_count": 18,
   "metadata": {},
   "outputs": [
    {
     "name": "stdout",
     "output_type": "stream",
     "text": [
      "*** Introductory Examples for the NLTK Book ***\n",
      "Loading text1, ..., text9 and sent1, ..., sent9\n",
      "Type the name of the text or sentence to view it.\n",
      "Type: 'texts()' or 'sents()' to list the materials.\n",
      "text1: Moby Dick by Herman Melville 1851\n",
      "text2: Sense and Sensibility by Jane Austen 1811\n",
      "text3: The Book of Genesis\n",
      "text4: Inaugural Address Corpus\n",
      "text5: Chat Corpus\n",
      "text6: Monty Python and the Holy Grail\n",
      "text7: Wall Street Journal\n",
      "text8: Personals Corpus\n",
      "text9: The Man Who Was Thursday by G . K . Chesterton 1908\n"
     ]
    }
   ],
   "source": [
    "from nltk.book import *"
   ]
  },
  {
   "cell_type": "code",
   "execution_count": 6,
   "metadata": {},
   "outputs": [],
   "source": [
    "def get_push_shift_data(data_type, **kwargs):\n",
    "    \"\"\"Returns results from a pushshift.io query\n",
    "    \"\"\"\n",
    "    # Note: using f\"\" strings automatically calls format() with named arguments\n",
    "    # taken from the current namespace\n",
    "    query_url = f\"https://api.pushshift.io/reddit/search/{data_type}/\"\n",
    "    search_args = kwargs\n",
    "    request = requests.get(query_url, params=search_args)\n",
    "    return request.json()\n"
   ]
  },
  {
   "cell_type": "code",
   "execution_count": 22,
   "metadata": {},
   "outputs": [],
   "source": [
    "# parameters for pushshift.io\n",
    "# Full list: https://pushshift.io/api-parameters/\n",
    "data_type = \"comment\"   # can be \"comment\" or \"submission\"\n",
    "query = \"liberal assholes\"      # search string\n",
    "duration = \"30d\"        # sets a time frame\n",
    "size = \"1000\"           # Sets a maximum amount of comments to return\n",
    "sort_type = \"score\"     # Options: \"score\", \"num_comments\", \"created_utc\"\n",
    "sort = \"desc\"\n",
    "subreddit = \"nba\"\n",
    "aggs = \"subreddit\"       # groupings, options: \"author\", \"link_id\", \"created_utc\", \"subreddit\""
   ]
  },
  {
   "cell_type": "code",
   "execution_count": 26,
   "metadata": {},
   "outputs": [],
   "source": [
    "aggdata = get_push_shift_data(data_type=data_type,\n",
    "                            q = query,\n",
    "                            after = duration,\n",
    "                            size = size,\n",
    "                            subreddit = \"nba\",\n",
    "                            aggs = aggs)"
   ]
  },
  {
   "cell_type": "code",
   "execution_count": 27,
   "metadata": {},
   "outputs": [
    {
     "data": {
      "text/plain": [
       "[{'doc_count': 2, 'key': 'nba'}]"
      ]
     },
     "execution_count": 27,
     "metadata": {},
     "output_type": "execute_result"
    }
   ],
   "source": [
    "data = aggdata.get(\"aggs\").get(aggs)\n",
    "data"
   ]
  },
  {
   "cell_type": "code",
   "execution_count": 25,
   "metadata": {},
   "outputs": [
    {
     "data": {
      "text/plain": [
       "[{'doc_count': 48, 'key': 'politics'},\n",
       " {'doc_count': 22, 'key': 'AskReddit'},\n",
       " {'doc_count': 20, 'key': 'Conservative'},\n",
       " {'doc_count': 18, 'key': 'news'},\n",
       " {'doc_count': 13, 'key': 'ActualPublicFreakouts'},\n",
       " {'doc_count': 12, 'key': 'Coronavirus'},\n",
       " {'doc_count': 12, 'key': 'PublicFreakout'},\n",
       " {'doc_count': 10, 'key': 'pics'},\n",
       " {'doc_count': 9, 'key': 'PoliticalCompassMemes'},\n",
       " {'doc_count': 8, 'key': 'AskALiberal'},\n",
       " {'doc_count': 7, 'key': 'PoliticalHumor'},\n",
       " {'doc_count': 7, 'key': 'liberalgunowners'},\n",
       " {'doc_count': 6, 'key': 'AmItheAsshole'},\n",
       " {'doc_count': 6, 'key': 'SubredditDrama'},\n",
       " {'doc_count': 5, 'key': '2ALiberals'},\n",
       " {'doc_count': 5, 'key': 'AdviceAnimals'},\n",
       " {'doc_count': 5, 'key': 'OutOfTheLoop'},\n",
       " {'doc_count': 5, 'key': 'unpopularopinion'},\n",
       " {'doc_count': 4, 'key': 'CapitalismVSocialism'},\n",
       " {'doc_count': 4, 'key': 'Gamingcirclejerk'},\n",
       " {'doc_count': 4, 'key': 'chicago'},\n",
       " {'doc_count': 4, 'key': 'conspiracy'},\n",
       " {'doc_count': 4, 'key': 'rant'},\n",
       " {'doc_count': 4, 'key': 'worldnews'},\n",
       " {'doc_count': 3, 'key': 'Enough_Sanders_Spam'},\n",
       " {'doc_count': 3, 'key': 'Firearms'},\n",
       " {'doc_count': 3, 'key': 'JusticeServed'},\n",
       " {'doc_count': 3, 'key': 'Seattle'},\n",
       " {'doc_count': 3, 'key': 'SeattleWA'},\n",
       " {'doc_count': 3, 'key': 'TheRightCantMeme'},\n",
       " {'doc_count': 3, 'key': 'awfuleverything'},\n",
       " {'doc_count': 3, 'key': 'neoliberal'},\n",
       " {'doc_count': 3, 'key': 'onguardforthee'},\n",
       " {'doc_count': 3, 'key': 'relationship_advice'},\n",
       " {'doc_count': 2, 'key': 'ABoringDystopia'},\n",
       " {'doc_count': 2, 'key': 'Anarchism'},\n",
       " {'doc_count': 2, 'key': 'AskAnAmerican'},\n",
       " {'doc_count': 2, 'key': 'Bad_Cop_No_Donut'},\n",
       " {'doc_count': 2, 'key': 'DemocraticSocialism'},\n",
       " {'doc_count': 2, 'key': 'JoeRogan'},\n",
       " {'doc_count': 2, 'key': 'Libertarian'},\n",
       " {'doc_count': 2, 'key': 'LockdownSkepticism'},\n",
       " {'doc_count': 2, 'key': 'NorthCarolina'},\n",
       " {'doc_count': 2, 'key': 'PoliticalDiscussion'},\n",
       " {'doc_count': 2, 'key': 'ShadowBan'},\n",
       " {'doc_count': 2, 'key': 'Teachers'},\n",
       " {'doc_count': 2, 'key': 'ThatsInsane'},\n",
       " {'doc_count': 2, 'key': 'TrueUnpopularOpinion'},\n",
       " {'doc_count': 2, 'key': 'TumblrInAction'},\n",
       " {'doc_count': 2, 'key': 'atheism'},\n",
       " {'doc_count': 2, 'key': 'bestof'},\n",
       " {'doc_count': 2, 'key': 'canada'},\n",
       " {'doc_count': 2, 'key': 'changemyview'},\n",
       " {'doc_count': 2, 'key': 'childfree'},\n",
       " {'doc_count': 2, 'key': 'copypasta'},\n",
       " {'doc_count': 2, 'key': 'democrats'},\n",
       " {'doc_count': 2, 'key': 'donaldtrump'},\n",
       " {'doc_count': 2, 'key': 'facepalm'},\n",
       " {'doc_count': 2, 'key': 'iamverybadass'},\n",
       " {'doc_count': 2, 'key': 'nba'},\n",
       " {'doc_count': 2, 'key': 'newyorkcity'},\n",
       " {'doc_count': 2, 'key': 'nextfuckinglevel'},\n",
       " {'doc_count': 2, 'key': 'ontario'},\n",
       " {'doc_count': 2, 'key': 'redscarepod'},\n",
       " {'doc_count': 2, 'key': 'stupidpol'},\n",
       " {'doc_count': 2, 'key': 'videos'},\n",
       " {'doc_count': 2, 'key': 'wallstreetbets'},\n",
       " {'doc_count': 1, 'key': '90DayFiance'},\n",
       " {'doc_count': 1, 'key': 'ABCDesis'},\n",
       " {'doc_count': 1, 'key': 'Advice'},\n",
       " {'doc_count': 1, 'key': 'AmITheAngel'},\n",
       " {'doc_count': 1, 'key': 'Anarcho_Capitalism'},\n",
       " {'doc_count': 1, 'key': 'AntifascistsofReddit'},\n",
       " {'doc_count': 1, 'key': 'AnythingGoesNews'},\n",
       " {'doc_count': 1, 'key': 'AskGayMen'},\n",
       " {'doc_count': 1, 'key': 'AskLGBT'},\n",
       " {'doc_count': 1, 'key': 'AskTrumpSupporters'},\n",
       " {'doc_count': 1, 'key': 'BlackWolfFeed'},\n",
       " {'doc_count': 1, 'key': 'CamGirlProblems'},\n",
       " {'doc_count': 1, 'key': 'CasualConversation'},\n",
       " {'doc_count': 1, 'key': 'Christianity'},\n",
       " {'doc_count': 1, 'key': 'CoronavirusDownunder'},\n",
       " {'doc_count': 1, 'key': 'Cringetopia'},\n",
       " {'doc_count': 1, 'key': 'Dallas'},\n",
       " {'doc_count': 1, 'key': 'DankLeft'},\n",
       " {'doc_count': 1, 'key': 'DemocratsforDiversity'},\n",
       " {'doc_count': 1, 'key': 'Economics'},\n",
       " {'doc_count': 1, 'key': 'Eugene'},\n",
       " {'doc_count': 1, 'key': 'FamiliesYouChoose'},\n",
       " {'doc_count': 1, 'key': 'FemaleDatingStrategy'},\n",
       " {'doc_count': 1, 'key': 'ForwardsFromKlandma'},\n",
       " {'doc_count': 1, 'key': 'FragileWhiteRedditor'},\n",
       " {'doc_count': 1, 'key': 'Frat'},\n",
       " {'doc_count': 1, 'key': 'FreshNewsToday'},\n",
       " {'doc_count': 1, 'key': 'FuckYouKaren'},\n",
       " {'doc_count': 1, 'key': 'Fuckthealtright'},\n",
       " {'doc_count': 1, 'key': 'GenX'},\n",
       " {'doc_count': 1, 'key': 'GenZedong'},\n",
       " {'doc_count': 1, 'key': 'GeorgeCarlin'},\n",
       " {'doc_count': 1, 'key': 'Humboldt'}]"
      ]
     },
     "execution_count": 25,
     "metadata": {},
     "output_type": "execute_result"
    }
   ],
   "source": []
  },
  {
   "cell_type": "code",
   "execution_count": 13,
   "metadata": {},
   "outputs": [],
   "source": [
    "comments = get_push_shift_data(data_type=data_type,\n",
    "                           q = query,\n",
    "                           after = duration,\n",
    "                           sort_type = \"score\",\n",
    "                           sort = \"desc\",\n",
    "                           size = size)"
   ]
  },
  {
   "cell_type": "code",
   "execution_count": 21,
   "metadata": {},
   "outputs": [
    {
     "data": {
      "image/png": "[encoded data removed]",
      "text/plain": [
       "<Figure size 432x288 with 1 Axes>"
      ]
     },
     "metadata": {
      "needs_background": "light"
     },
     "output_type": "display_data"
    }
   ],
   "source": [
    "text4.dispersion_plot([\"We\", \"rule\", \"democracy\", \"freedom\", \"duties\", \"America\"])"
   ]
  },
  {
   "cell_type": "code",
   "execution_count": null,
   "metadata": {},
   "outputs": [],
   "source": []
  },
  {
   "cell_type": "code",
   "execution_count": null,
   "metadata": {},
   "outputs": [],
   "source": []
  },
  {
   "cell_type": "code",
   "execution_count": null,
   "metadata": {},
   "outputs": [],
   "source": []
  },
  {
   "cell_type": "code",
   "execution_count": null,
   "metadata": {},
   "outputs": [],
   "source": []
  },
  {
   "cell_type": "code",
   "execution_count": null,
   "metadata": {},
   "outputs": [],
   "source": []
  },
  {
   "cell_type": "code",
   "execution_count": null,
   "metadata": {},
   "outputs": [],
   "source": []
  },
  {
   "cell_type": "code",
   "execution_count": null,
   "metadata": {},
   "outputs": [],
   "source": []
  },
  {
   "cell_type": "code",
   "execution_count": null,
   "metadata": {},
   "outputs": [],
   "source": []
  },
  {
   "cell_type": "code",
   "execution_count": null,
   "metadata": {},
   "outputs": [],
   "source": []
  },
  {
   "cell_type": "code",
   "execution_count": null,
   "metadata": {},
   "outputs": [],
   "source": []
  },
  {
   "cell_type": "code",
   "execution_count": null,
   "metadata": {},
   "outputs": [],
   "source": []
  },
  {
   "cell_type": "code",
   "execution_count": null,
   "metadata": {},
   "outputs": [],
   "source": []
  },
  {
   "cell_type": "code",
   "execution_count": null,
   "metadata": {},
   "outputs": [],
   "source": []
  },
  {
   "cell_type": "code",
   "execution_count": null,
   "metadata": {},
   "outputs": [],
   "source": []
  },
  {
   "cell_type": "code",
   "execution_count": null,
   "metadata": {},
   "outputs": [],
   "source": []
  },
  {
   "cell_type": "code",
   "execution_count": null,
   "metadata": {},
   "outputs": [],
   "source": []
  },
  {
   "cell_type": "code",
   "execution_count": null,
   "metadata": {},
   "outputs": [],
   "source": []
  },
  {
   "cell_type": "code",
   "execution_count": null,
   "metadata": {},
   "outputs": [],
   "source": []
  }
 ],
 "metadata": {
  "kernelspec": {
   "display_name": "Python 3",
   "language": "python",
   "name": "python3"
  },
  "language_info": {
   "codemirror_mode": {
    "name": "ipython",
    "version": 3
   },
   "file_extension": ".py",
   "mimetype": "text/x-python",
   "name": "python",
   "nbconvert_exporter": "python",
   "pygments_lexer": "ipython3",
   "version": "3.8.3"
  }
 },
 "nbformat": 4,
 "nbformat_minor": 4
}
